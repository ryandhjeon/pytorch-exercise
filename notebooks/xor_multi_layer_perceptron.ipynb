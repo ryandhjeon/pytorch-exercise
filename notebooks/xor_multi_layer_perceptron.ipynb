{
 "cells": [
  {
   "cell_type": "markdown",
   "metadata": {},
   "source": [
    "# XOR Multi layer perceptron"
   ]
  },
  {
   "cell_type": "code",
   "execution_count": 1,
   "metadata": {},
   "outputs": [],
   "source": [
    "import torch\n",
    "import torch.nn as nn"
   ]
  },
  {
   "cell_type": "code",
   "execution_count": 2,
   "metadata": {},
   "outputs": [],
   "source": [
    "device = 'cuda' if torch.cuda.is_available() else 'cpu'\n",
    "\n",
    "# for reproducibility\n",
    "torch.manual_seed(777)\n",
    "if device == 'cuda':\n",
    "    torch.cuda.manual_seed_all(777)"
   ]
  },
  {
   "cell_type": "code",
   "execution_count": 3,
   "metadata": {},
   "outputs": [],
   "source": [
    "X = torch.FloatTensor([[0, 0], [0, 1], [1, 0], [1, 1]]).to(device)\n",
    "Y = torch.FloatTensor([[0], [1], [1], [0]]).to(device)"
   ]
  },
  {
   "cell_type": "code",
   "execution_count": 4,
   "metadata": {},
   "outputs": [],
   "source": [
    "model = nn.Sequential(\n",
    "          nn.Linear(2, 10, bias=True), # input_layer = 2, hidden_layer1 = 10\n",
    "          nn.Sigmoid(),\n",
    "          nn.Linear(10, 10, bias=True), # hidden_layer1 = 10, hidden_layer2 = 10\n",
    "          nn.Sigmoid(),\n",
    "          nn.Linear(10, 10, bias=True), # hidden_layer2 = 10, hidden_layer3 = 10\n",
    "          nn.Sigmoid(),\n",
    "          nn.Linear(10, 1, bias=True), # hidden_layer3 = 10, output_layer = 1\n",
    "          nn.Sigmoid()\n",
    "          ).to(device)"
   ]
  },
  {
   "cell_type": "code",
   "execution_count": 6,
   "metadata": {},
   "outputs": [],
   "source": [
    "criterion = torch.nn.BCELoss().to(device) # Binary Cross Entropy Loss\n",
    "optimizer = torch.optim.SGD(model.parameters(), lr=1)  # modified learning rate from 0.1 to 1"
   ]
  },
  {
   "cell_type": "code",
   "execution_count": 7,
   "metadata": {},
   "outputs": [
    {
     "name": "stdout",
     "output_type": "stream",
     "text": [
      "0 0.6948983669281006\n",
      "100 0.693155825138092\n",
      "200 0.6931535005569458\n",
      "300 0.6931513547897339\n",
      "400 0.6931493282318115\n",
      "500 0.6931473016738892\n",
      "600 0.6931453943252563\n",
      "700 0.6931434869766235\n",
      "800 0.6931416988372803\n",
      "900 0.6931397914886475\n",
      "1000 0.6931379437446594\n",
      "1100 0.6931361556053162\n",
      "1200 0.6931343078613281\n",
      "1300 0.6931324005126953\n",
      "1400 0.6931304931640625\n",
      "1500 0.6931284666061401\n",
      "1600 0.6931264400482178\n",
      "1700 0.6931242942810059\n",
      "1800 0.6931220293045044\n",
      "1900 0.6931197047233582\n",
      "2000 0.6931172609329224\n",
      "2100 0.6931145191192627\n",
      "2200 0.6931115984916687\n",
      "2300 0.6931084394454956\n",
      "2400 0.6931051015853882\n",
      "2500 0.6931014657020569\n",
      "2600 0.6930974721908569\n",
      "2700 0.6930930018424988\n",
      "2800 0.6930879950523376\n",
      "2900 0.6930825114250183\n",
      "3000 0.6930763721466064\n",
      "3100 0.6930692791938782\n",
      "3200 0.6930611729621887\n",
      "3300 0.6930519342422485\n",
      "3400 0.6930411458015442\n",
      "3500 0.6930283904075623\n",
      "3600 0.6930132508277893\n",
      "3700 0.6929951310157776\n",
      "3800 0.6929728984832764\n",
      "3900 0.6929453015327454\n",
      "4000 0.6929103136062622\n",
      "4100 0.6928649544715881\n",
      "4200 0.6928046941757202\n",
      "4300 0.692721962928772\n",
      "4400 0.6926040649414062\n",
      "4500 0.6924278736114502\n",
      "4600 0.6921480298042297\n",
      "4700 0.6916665434837341\n",
      "4800 0.6907395124435425\n",
      "4900 0.6886204481124878\n",
      "5000 0.6820822358131409\n",
      "5100 0.6472560167312622\n",
      "5200 0.449413001537323\n",
      "5300 0.039569538086652756\n",
      "5400 0.009593501687049866\n",
      "5500 0.004991812631487846\n",
      "5600 0.0032768689561635256\n",
      "5700 0.0024053137749433517\n",
      "5800 0.0018849270418286324\n",
      "5900 0.0015417109243571758\n",
      "6000 0.0012996583245694637\n",
      "6100 0.0011203517206013203\n",
      "6200 0.0009826195891946554\n",
      "6300 0.0008737365715205669\n",
      "6400 0.0007856100564822555\n",
      "6500 0.0007129105506464839\n",
      "6600 0.0006519814487546682\n",
      "6700 0.0006002558511681855\n",
      "6800 0.0005557790864259005\n",
      "6900 0.0005171636585146189\n",
      "7000 0.0004833652637898922\n",
      "7100 0.0004535485350061208\n",
      "7200 0.0004270272911526263\n",
      "7300 0.00040329445619136095\n",
      "7400 0.0003820069832727313\n",
      "7500 0.00036276219179853797\n",
      "7600 0.00034526182571426034\n",
      "7700 0.00032929712324403226\n",
      "7800 0.00031467422377318144\n",
      "7900 0.00030128873186185956\n",
      "8000 0.00028891698457300663\n",
      "8100 0.00027746951673179865\n",
      "8200 0.00026690165395848453\n",
      "8300 0.00025703440769575536\n",
      "8400 0.00024788270820863545\n",
      "8500 0.00023931238683871925\n",
      "8600 0.00023127871099859476\n",
      "8700 0.0002237518783658743\n",
      "8800 0.00021670199930667877\n",
      "8900 0.00021006952738389373\n",
      "9000 0.00020375008170958608\n",
      "9100 0.00019789270299952477\n",
      "9200 0.00019225894357077777\n",
      "9300 0.00018696799816098064\n",
      "9400 0.0001819453464122489\n",
      "9500 0.00017716118600219488\n",
      "9600 0.00017258571460843086\n",
      "9700 0.0001683083246462047\n",
      "9800 0.00016417998995166272\n",
      "9900 0.00016024542856030166\n",
      "10000 0.00015648972475901246\n"
     ]
    }
   ],
   "source": [
    "for epoch in range(10001):\n",
    "    optimizer.zero_grad()\n",
    "    # forward\n",
    "    hypothesis = model(X)\n",
    "\n",
    "    # cost function\n",
    "    cost = criterion(hypothesis, Y)\n",
    "    cost.backward()\n",
    "    optimizer.step()\n",
    "\n",
    "    # print every 100 epoch\n",
    "    if epoch % 100 == 0:\n",
    "        print(epoch, cost.item())"
   ]
  },
  {
   "cell_type": "markdown",
   "metadata": {},
   "source": [
    "### Prediction with the model"
   ]
  },
  {
   "cell_type": "code",
   "execution_count": 10,
   "metadata": {},
   "outputs": [
    {
     "name": "stdout",
     "output_type": "stream",
     "text": [
      "Hypothesis:  [[1.1173233e-04]\n",
      " [9.9982893e-01]\n",
      " [9.9984252e-01]\n",
      " [1.8558851e-04]]\n",
      "Predicted:  [[0.]\n",
      " [1.]\n",
      " [1.]\n",
      " [0.]]\n",
      "Real value Y:  [[0.]\n",
      " [1.]\n",
      " [1.]\n",
      " [0.]]\n",
      "Accuracy:  1.0\n"
     ]
    }
   ],
   "source": [
    "with torch.no_grad():\n",
    "    hypothesis = model(X)\n",
    "    predicted = (hypothesis > 0.5).float()\n",
    "    accuracy = (predicted == Y).float().mean()\n",
    "    print('Hypothesis: ', hypothesis.detach().cpu().numpy())\n",
    "    print('Predicted: ', predicted.detach().cpu().numpy())\n",
    "    print('Real value Y: ', Y.cpu().numpy())\n",
    "    print('Accuracy: ', accuracy.item())"
   ]
  },
  {
   "cell_type": "markdown",
   "metadata": {},
   "source": [
    "Predicted: (0,1,1,0)\n",
    "Actual: (0,1,1,0)"
   ]
  },
  {
   "cell_type": "code",
   "execution_count": null,
   "metadata": {},
   "outputs": [],
   "source": []
  }
 ],
 "metadata": {
  "kernelspec": {
   "display_name": "Python 3",
   "language": "python",
   "name": "python3"
  },
  "language_info": {
   "codemirror_mode": {
    "name": "ipython",
    "version": 3
   },
   "file_extension": ".py",
   "mimetype": "text/x-python",
   "name": "python",
   "nbconvert_exporter": "python",
   "pygments_lexer": "ipython3",
   "version": "3.7.8"
  }
 },
 "nbformat": 4,
 "nbformat_minor": 4
}
